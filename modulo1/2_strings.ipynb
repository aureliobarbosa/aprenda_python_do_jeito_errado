{
 "cells": [
  {
   "attachments": {},
   "cell_type": "markdown",
   "id": "3d37ebd3-3dfb-49fe-93b7-139b922a79b7",
   "metadata": {},
   "source": [
    "# Complementações para os capítulos 1 e 2 do Allen\n",
    "\n",
    "Vou fazer diversas complementações abaixo. Cada tópico está indicado. "
   ]
  },
  {
   "attachments": {},
   "cell_type": "markdown",
   "id": "64f019fc-4e55-4d89-98f8-40c73d877d32",
   "metadata": {},
   "source": [
    "# 1) Sobre Markdown.\n",
    "\n",
    "# Isto é um título.\n",
    "## Isto é um sub-título\n",
    "\n",
    "isto é um trecho de texto.\n",
    "\n",
    "**isto é um texto em negrito.**\n",
    "*isto é um texto em itálico.*"
   ]
  },
  {
   "attachments": {},
   "cell_type": "markdown",
   "id": "217dede7-51ea-420b-9cbd-7ff8a96d242c",
   "metadata": {},
   "source": [
    "2) Sobre textos"
   ]
  },
  {
   "cell_type": "code",
   "execution_count": 1,
   "id": "dc8bd5ab-91a2-4246-af1b-a39b0eaa0ad4",
   "metadata": {},
   "outputs": [
    {
     "data": {
      "text/plain": [
       "'isto é um texto'"
      ]
     },
     "execution_count": 1,
     "metadata": {},
     "output_type": "execute_result"
    }
   ],
   "source": [
    "texto = \"isto é um texto\"\n",
    "texto"
   ]
  },
  {
   "cell_type": "code",
   "execution_count": 2,
   "id": "74dcac2d-128b-487c-9351-a65cdbd1f09a",
   "metadata": {},
   "outputs": [
    {
     "data": {
      "text/plain": [
       "str"
      ]
     },
     "execution_count": 2,
     "metadata": {},
     "output_type": "execute_result"
    }
   ],
   "source": [
    "type(texto)"
   ]
  },
  {
   "attachments": {},
   "cell_type": "markdown",
   "id": "6dabb0f3",
   "metadata": {},
   "source": [
    "Note que é possível fazer uma reatribuição em uma variável!"
   ]
  },
  {
   "cell_type": "code",
   "execution_count": 3,
   "id": "c535c7e6-bbf6-4e34-a47f-e7b48965cf2b",
   "metadata": {},
   "outputs": [],
   "source": [
    "texto = \"agora é outro texto\""
   ]
  },
  {
   "cell_type": "code",
   "execution_count": 5,
   "id": "0cca7aad-fa93-45e3-acef-3e835ea5f696",
   "metadata": {},
   "outputs": [
    {
     "name": "stdout",
     "output_type": "stream",
     "text": [
      "agora é outro texto\n"
     ]
    }
   ],
   "source": [
    "print(texto)"
   ]
  },
  {
   "cell_type": "code",
   "execution_count": 6,
   "id": "1353eec2-e8f9-4f6c-a37b-532ce4490df4",
   "metadata": {},
   "outputs": [
    {
     "name": "stdout",
     "output_type": "stream",
     "text": [
      "entre com um numero 3.15\n"
     ]
    }
   ],
   "source": [
    "numero = input(\"entre com um numero\")"
   ]
  },
  {
   "cell_type": "code",
   "execution_count": 7,
   "id": "a2f258c1-7a23-4089-9ea5-74db7f515712",
   "metadata": {},
   "outputs": [
    {
     "data": {
      "text/plain": [
       "'3.15'"
      ]
     },
     "execution_count": 7,
     "metadata": {},
     "output_type": "execute_result"
    }
   ],
   "source": [
    "numero"
   ]
  },
  {
   "cell_type": "code",
   "execution_count": 8,
   "id": "8ace3a45-04c3-4863-94e9-da7a2c55dfc2",
   "metadata": {},
   "outputs": [
    {
     "data": {
      "text/plain": [
       "str"
      ]
     },
     "execution_count": 8,
     "metadata": {},
     "output_type": "execute_result"
    }
   ],
   "source": [
    "type(numero)"
   ]
  },
  {
   "attachments": {},
   "cell_type": "markdown",
   "id": "9ac724f0-9193-4d7c-816a-7055ce943f33",
   "metadata": {},
   "source": [
    "Note que ao exibirmos o número colcoado no input ele aparece como string. Veja o tipo do dado retornado pela função embutida input(). O que deve ser feito é a conversão para o tipo de dado adequado."
   ]
  },
  {
   "cell_type": "code",
   "execution_count": 9,
   "id": "e4e1fd1c-f73b-4343-8ab7-99b84e662994",
   "metadata": {},
   "outputs": [
    {
     "data": {
      "text/plain": [
       "3.15"
      ]
     },
     "execution_count": 9,
     "metadata": {},
     "output_type": "execute_result"
    }
   ],
   "source": [
    "float(numero)"
   ]
  },
  {
   "cell_type": "code",
   "execution_count": 10,
   "id": "6c931845-dc9d-479b-a9f3-8c4dcb29d8e1",
   "metadata": {},
   "outputs": [
    {
     "data": {
      "text/plain": [
       "3.15"
      ]
     },
     "execution_count": 10,
     "metadata": {},
     "output_type": "execute_result"
    }
   ],
   "source": [
    "numero_float = float(numero)\n",
    "numero_float"
   ]
  },
  {
   "cell_type": "code",
   "execution_count": 11,
   "id": "395850d1-f260-491e-a7bf-8e2944754e99",
   "metadata": {},
   "outputs": [
    {
     "data": {
      "text/plain": [
       "float"
      ]
     },
     "execution_count": 11,
     "metadata": {},
     "output_type": "execute_result"
    }
   ],
   "source": [
    "type(numero_float)"
   ]
  },
  {
   "cell_type": "code",
   "execution_count": 12,
   "id": "61ec0807-9181-4f8a-ae2c-e6b0f705366f",
   "metadata": {},
   "outputs": [
    {
     "data": {
      "text/plain": [
       "'3.15'"
      ]
     },
     "execution_count": 12,
     "metadata": {},
     "output_type": "execute_result"
    }
   ],
   "source": [
    "str(numero_float)"
   ]
  },
  {
   "cell_type": "code",
   "execution_count": 6,
   "id": "996a6a01",
   "metadata": {},
   "outputs": [
    {
     "data": {
      "text/plain": [
       "'2.718281828459045'"
      ]
     },
     "execution_count": 6,
     "metadata": {},
     "output_type": "execute_result"
    }
   ],
   "source": [
    "# um exemplo mais interessante\n",
    "from math import exp\n",
    "numero_e = exp(1.0)\n",
    "texto_numero_e = str(numero_e)\n",
    "texto_numero_e"
   ]
  },
  {
   "attachments": {},
   "cell_type": "markdown",
   "id": "630e31cd-2bbe-4d44-af12-14c0ed97a31a",
   "metadata": {},
   "source": [
    "Perceba que o valor em float pode ser convertido para o formato de string com o uso da função embutida str()."
   ]
  },
  {
   "attachments": {},
   "cell_type": "markdown",
   "id": "3b4d5096-12cc-4e69-b64b-7ada88762c4a",
   "metadata": {},
   "source": [
    "# Conversão automática de tipos"
   ]
  },
  {
   "cell_type": "code",
   "execution_count": 15,
   "id": "2e41a70d-30fe-4b02-a6d1-73cd8df1da73",
   "metadata": {},
   "outputs": [],
   "source": [
    "numero = 1"
   ]
  },
  {
   "cell_type": "code",
   "execution_count": 16,
   "id": "e13fe02a-3766-44d1-b668-f32005497dc1",
   "metadata": {},
   "outputs": [
    {
     "data": {
      "text/plain": [
       "int"
      ]
     },
     "execution_count": 16,
     "metadata": {},
     "output_type": "execute_result"
    }
   ],
   "source": [
    "type(numero)"
   ]
  },
  {
   "cell_type": "code",
   "execution_count": 17,
   "id": "4df7acf4-554b-408f-bef0-ca7a4fda62da",
   "metadata": {},
   "outputs": [],
   "source": [
    "numero = numero*1.0"
   ]
  },
  {
   "cell_type": "code",
   "execution_count": 18,
   "id": "40d36471-adf9-499d-b094-0bcba24bdc51",
   "metadata": {},
   "outputs": [
    {
     "data": {
      "text/plain": [
       "float"
      ]
     },
     "execution_count": 18,
     "metadata": {},
     "output_type": "execute_result"
    }
   ],
   "source": [
    "type(numero)"
   ]
  },
  {
   "attachments": {},
   "cell_type": "markdown",
   "id": "45723140-63b4-46c1-8ecb-8c170e571d24",
   "metadata": {},
   "source": [
    "Perceba que ao multiplicarmos um inteiro por um numero real (float) obtemos um float. Note que são tipos de dados diferentes, como pode ser verificado facilmente com o código abaixo:"
   ]
  },
  {
   "cell_type": "code",
   "execution_count": 19,
   "id": "1168ae1c-d306-4f2b-918d-6dae94301b9c",
   "metadata": {},
   "outputs": [
    {
     "name": "stdout",
     "output_type": "stream",
     "text": [
      "<class 'int'>   <class 'float'>\n"
     ]
    }
   ],
   "source": [
    "print(type(1),' ',type(1.0))"
   ]
  },
  {
   "attachments": {},
   "cell_type": "markdown",
   "id": "5c128a7b-2783-4507-b473-ba8465a1cca6",
   "metadata": {},
   "source": [
    "## Mais sobre Strings\n",
    "Vamos considerar alguns detalhes sobre 'somas' e 'multiplicação' com strings. Veja os casos abaixo:"
   ]
  },
  {
   "cell_type": "code",
   "execution_count": 23,
   "id": "40c00d04-77cb-43e5-9eac-d73154dc9391",
   "metadata": {},
   "outputs": [
    {
     "data": {
      "text/plain": [
       "'FulanoSilva'"
      ]
     },
     "execution_count": 23,
     "metadata": {},
     "output_type": "execute_result"
    }
   ],
   "source": [
    "\"Fulano\" + \"Silva\""
   ]
  },
  {
   "attachments": {},
   "cell_type": "markdown",
   "id": "cb3c9642-b1e5-49ef-b5b5-c845c53fa35c",
   "metadata": {},
   "source": [
    "Esse é o comportamento esperado. Para obter o nome separado por um espaço em branco, podemos somar 3 strings:"
   ]
  },
  {
   "cell_type": "code",
   "execution_count": 24,
   "id": "029e681d-3e1d-440c-a471-bb816a612a1e",
   "metadata": {},
   "outputs": [
    {
     "data": {
      "text/plain": [
       "'Fulano Silva'"
      ]
     },
     "execution_count": 24,
     "metadata": {},
     "output_type": "execute_result"
    }
   ],
   "source": [
    "\"Fulano\" + \" \" + \"Silva\""
   ]
  },
  {
   "attachments": {},
   "cell_type": "markdown",
   "id": "d476af7f-618d-4eea-a5cb-33f8cfc4994e",
   "metadata": {},
   "source": [
    "Outra forma de obter o mesmo resultado é utilizando o método de string `join()` que concatena uma lista de strings utilizando um string base como o elemento que 'cola' os elementos sucessivos da lista de strings. Veja o exemplo abaixo:"
   ]
  },
  {
   "cell_type": "code",
   "execution_count": 25,
   "id": "f00edcb1-7af5-489b-8a98-4a2e1e4b86e8",
   "metadata": {},
   "outputs": [
    {
     "data": {
      "text/plain": [
       "'Fulano Silva'"
      ]
     },
     "execution_count": 25,
     "metadata": {},
     "output_type": "execute_result"
    }
   ],
   "source": [
    "' '.join([\"Fulano\",\"Silva\"])"
   ]
  },
  {
   "attachments": {},
   "cell_type": "markdown",
   "id": "8693440e-ed9e-4e00-ae25-b523b46df693",
   "metadata": {},
   "source": [
    "Neste caso o método `join()` do  objeto do tipo string `' '` foi acionado para criar um novo objeto do tipo string, que é o resultado da concatenação dos elementos da lista `[\"Fulano\",\"Silva\"]` utilizando `' '` como 'cola'. Veja o que acontece no caso abaixo:"
   ]
  },
  {
   "cell_type": "code",
   "execution_count": 27,
   "id": "566ad18e-6a99-45f2-9d12-1faa6df98697",
   "metadata": {},
   "outputs": [
    {
     "data": {
      "text/plain": [
       "'Fulano&Silva'"
      ]
     },
     "execution_count": 27,
     "metadata": {},
     "output_type": "execute_result"
    }
   ],
   "source": [
    "'&'.join([\"Fulano\",\"Silva\"])"
   ]
  },
  {
   "attachments": {},
   "cell_type": "markdown",
   "id": "85c8901b-7d84-4a99-9ac5-8ddd5af0a8ab",
   "metadata": {},
   "source": [
    "Para utilizarmos o método de string`join(` nos dois exemplos acima tivemos que introduzir o tipo de dado lista, que neste caso apareceu no interior da função `join()` como`[\"Fulano\",\"Silva\"]`. Descreveremos listas mais à frente e pedimos paciência neste momento, mas adianto que o tipo de dados faz o que o próprio nome indica, trata-se de uma lista de elementos. O método oposto ao método é `join()` chama-se `split()`, descrito abaixo sem maiores detalhes:"
   ]
  },
  {
   "cell_type": "code",
   "execution_count": 29,
   "id": "172e3a85-917a-4e33-8e43-05065572d14b",
   "metadata": {},
   "outputs": [
    {
     "data": {
      "text/plain": [
       "['Fulano', 'Sicrano', 'da', 'Silva', 'Sauro']"
      ]
     },
     "execution_count": 29,
     "metadata": {},
     "output_type": "execute_result"
    }
   ],
   "source": [
    "\"Fulano Sicrano da Silva Sauro\".split(\" \")"
   ]
  },
  {
   "attachments": {},
   "cell_type": "markdown",
   "id": "48bb879f-4c9d-42b6-bca5-2df9d93672d8",
   "metadata": {},
   "source": [
    "Deixo como tarefa procurar na documentação do Python a descrição deste método."
   ]
  },
  {
   "attachments": {},
   "cell_type": "markdown",
   "id": "b617282a-e5ab-4e3f-b7c4-1acc3788e545",
   "metadata": {},
   "source": [
    "Vamos agora tratar de alguns detalhes sobre a 'multiplicação' de strings. Veja os exemplos abaixo:"
   ]
  },
  {
   "cell_type": "code",
   "execution_count": 30,
   "id": "e646ab4a-f456-4604-937e-b5f04f2a7148",
   "metadata": {},
   "outputs": [],
   "source": [
    "bobagem = \"bla\""
   ]
  },
  {
   "cell_type": "code",
   "execution_count": 31,
   "id": "9a9aa371-d556-4de1-9172-eab2b2bbffc9",
   "metadata": {},
   "outputs": [
    {
     "data": {
      "text/plain": [
       "'blablablablablablablablablabla'"
      ]
     },
     "execution_count": 31,
     "metadata": {},
     "output_type": "execute_result"
    }
   ],
   "source": [
    "bobagem*10"
   ]
  },
  {
   "attachments": {},
   "cell_type": "markdown",
   "id": "324a4b1d-d04e-462f-a67e-f3b85b704db0",
   "metadata": {},
   "source": [
    "Deixo duas questões?\n",
    "\n",
    "- O que um stringquando multiplicamos um string por um inteiro nulo?\n",
    "- E se o multiplicarmos por um número negativo?"
   ]
  },
  {
   "cell_type": "code",
   "execution_count": 33,
   "id": "ef0ea294-8ef7-4070-9210-d5382be1b9ec",
   "metadata": {},
   "outputs": [],
   "source": [
    "teste = bobagem*0"
   ]
  },
  {
   "cell_type": "code",
   "execution_count": 34,
   "id": "6920f5e1-d480-4312-8fa2-9d031a0721fc",
   "metadata": {},
   "outputs": [
    {
     "name": "stdout",
     "output_type": "stream",
     "text": [
      "<class 'str'> \n"
     ]
    }
   ],
   "source": [
    "print( type(teste), teste)"
   ]
  },
  {
   "cell_type": "code",
   "execution_count": 35,
   "id": "43687895-be52-4fcd-8216-84aa86c5d3f4",
   "metadata": {},
   "outputs": [
    {
     "data": {
      "text/plain": [
       "''"
      ]
     },
     "execution_count": 35,
     "metadata": {},
     "output_type": "execute_result"
    }
   ],
   "source": [
    "teste"
   ]
  },
  {
   "attachments": {},
   "cell_type": "markdown",
   "id": "3fe79e8f-1484-4b09-8ab4-05bb28cb0c30",
   "metadata": {},
   "source": [
    "Para fechar a complementação destes capítulos, vou introduzir os métodos de string upper() e lower(). Veja como eles funcionam:"
   ]
  },
  {
   "cell_type": "code",
   "execution_count": 37,
   "id": "8b838cca-7b58-4d1d-bb35-ad7ab3050df6",
   "metadata": {},
   "outputs": [],
   "source": [
    "musica = \"Riders on the Storm\""
   ]
  },
  {
   "cell_type": "code",
   "execution_count": 39,
   "id": "849c8175-c7ee-488d-8559-41a9bf6f6ba9",
   "metadata": {},
   "outputs": [
    {
     "data": {
      "text/plain": [
       "'RIDERS ON THE STORM'"
      ]
     },
     "execution_count": 39,
     "metadata": {},
     "output_type": "execute_result"
    }
   ],
   "source": [
    "musica.upper()"
   ]
  },
  {
   "cell_type": "code",
   "execution_count": 41,
   "id": "8c1b9f89-ae25-4b78-aba5-86811abc82b4",
   "metadata": {},
   "outputs": [
    {
     "data": {
      "text/plain": [
       "'Riders on the Storm'"
      ]
     },
     "execution_count": 41,
     "metadata": {},
     "output_type": "execute_result"
    }
   ],
   "source": [
    "musica"
   ]
  },
  {
   "cell_type": "code",
   "execution_count": 42,
   "id": "440620eb-f1e2-4a4e-b3ac-155ffd236859",
   "metadata": {},
   "outputs": [
    {
     "data": {
      "text/plain": [
       "'riders on the storm'"
      ]
     },
     "execution_count": 42,
     "metadata": {},
     "output_type": "execute_result"
    }
   ],
   "source": [
    "musica.lower()"
   ]
  },
  {
   "cell_type": "code",
   "execution_count": null,
   "id": "7a22f025",
   "metadata": {},
   "outputs": [],
   "source": []
  },
  {
   "cell_type": "code",
   "execution_count": null,
   "id": "e0bc80a3",
   "metadata": {},
   "outputs": [],
   "source": []
  },
  {
   "cell_type": "code",
   "execution_count": null,
   "id": "36d1e73a",
   "metadata": {},
   "outputs": [],
   "source": []
  },
  {
   "cell_type": "code",
   "execution_count": null,
   "id": "fa405482",
   "metadata": {},
   "outputs": [],
   "source": []
  },
  {
   "cell_type": "code",
   "execution_count": 7,
   "id": "91ab32f4",
   "metadata": {},
   "outputs": [
    {
     "data": {
      "text/plain": [
       "2.718281828459045"
      ]
     },
     "execution_count": 7,
     "metadata": {},
     "output_type": "execute_result"
    }
   ],
   "source": [
    "numero_e"
   ]
  },
  {
   "cell_type": "code",
   "execution_count": 10,
   "id": "b4e04bc8",
   "metadata": {},
   "outputs": [
    {
     "data": {
      "text/plain": [
       "'2.718281828459045'"
      ]
     },
     "execution_count": 10,
     "metadata": {},
     "output_type": "execute_result"
    }
   ],
   "source": [
    "str(numero_e)"
   ]
  },
  {
   "cell_type": "code",
   "execution_count": 14,
   "id": "f719cc09",
   "metadata": {},
   "outputs": [],
   "source": [
    "n = '12341234'"
   ]
  },
  {
   "cell_type": "code",
   "execution_count": null,
   "id": "bc26deec",
   "metadata": {},
   "outputs": [],
   "source": []
  },
  {
   "cell_type": "code",
   "execution_count": null,
   "id": "9b395cef",
   "metadata": {},
   "outputs": [],
   "source": []
  }
 ],
 "metadata": {
  "kernelspec": {
   "display_name": "Python 3 (ipykernel)",
   "language": "python",
   "name": "python3"
  },
  "language_info": {
   "codemirror_mode": {
    "name": "ipython",
    "version": 3
   },
   "file_extension": ".py",
   "mimetype": "text/x-python",
   "name": "python",
   "nbconvert_exporter": "python",
   "pygments_lexer": "ipython3",
   "version": "3.11.4"
  }
 },
 "nbformat": 4,
 "nbformat_minor": 5
}
