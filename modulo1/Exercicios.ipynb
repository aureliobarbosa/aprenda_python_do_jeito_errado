{
 "cells": [
  {
   "cell_type": "markdown",
   "id": "bec96c68-492c-42a0-9b85-cece3b7d5c5e",
   "metadata": {},
   "source": [
    "# Exercício 1: Faça um casinha de altura e largura variável. No início do código você deverá definir duas variáveis: `altura` e `largura`."
   ]
  },
  {
   "cell_type": "code",
   "execution_count": 1,
   "id": "f614cfa7-c5a2-406f-9452-19918f7bf5a9",
   "metadata": {},
   "outputs": [],
   "source": [
    "altura  = 10\n",
    "largura = 5"
   ]
  },
  {
   "cell_type": "markdown",
   "id": "848138c2-70ba-4136-ae11-127d699fa2db",
   "metadata": {},
   "source": [
    "Dica: Abaixo mostro como fazer uma linha reta e uma coluna de tamanho variável."
   ]
  },
  {
   "cell_type": "code",
   "execution_count": 11,
   "id": "24673fa5-ecdf-4254-866a-62f577afdcb7",
   "metadata": {},
   "outputs": [],
   "source": [
    "linha = largura*'-' + '\\n'\n",
    "coluna = altura*'|\\n'"
   ]
  },
  {
   "cell_type": "code",
   "execution_count": 12,
   "id": "a75923a4-b976-4ad8-9483-e1df47e953b9",
   "metadata": {},
   "outputs": [
    {
     "name": "stdout",
     "output_type": "stream",
     "text": [
      "-----\n",
      "\n",
      "|\n",
      "|\n",
      "|\n",
      "|\n",
      "|\n",
      "|\n",
      "|\n",
      "|\n",
      "|\n",
      "|\n",
      "\n"
     ]
    }
   ],
   "source": [
    "print(linha)\n",
    "print(coluna)"
   ]
  },
  {
   "cell_type": "markdown",
   "id": "21a399a5-de38-40fc-aad0-649978058a9d",
   "metadata": {},
   "source": [
    "Notem que eu posso somar variáveis com diferentes strings em uma nova variável. Vejam abaixo o conteúdo da variável resultante da soma das variáveis `linha` e `coluna`, seguido do seu `print`."
   ]
  },
  {
   "cell_type": "code",
   "execution_count": 13,
   "id": "8c0a96da-4275-4ab0-8e2b-fee34b5656d2",
   "metadata": {},
   "outputs": [
    {
     "data": {
      "text/plain": [
       "'-----\\n|\\n|\\n|\\n|\\n|\\n|\\n|\\n|\\n|\\n|\\n'"
      ]
     },
     "execution_count": 13,
     "metadata": {},
     "output_type": "execute_result"
    }
   ],
   "source": [
    "linha_mais_coluna = linha + coluna\n",
    "linha_mais_coluna"
   ]
  },
  {
   "cell_type": "code",
   "execution_count": 14,
   "id": "c1b29e05-5ed9-41e7-be4e-4be8480e7e8e",
   "metadata": {},
   "outputs": [
    {
     "name": "stdout",
     "output_type": "stream",
     "text": [
      "-----\n",
      "|\n",
      "|\n",
      "|\n",
      "|\n",
      "|\n",
      "|\n",
      "|\n",
      "|\n",
      "|\n",
      "|\n",
      "\n"
     ]
    }
   ],
   "source": [
    "print(linha_mais_coluna)"
   ]
  },
  {
   "cell_type": "code",
   "execution_count": null,
   "id": "f4b7e29f-090d-4f9c-bf65-d0c0b3e4ee5b",
   "metadata": {},
   "outputs": [],
   "source": []
  }
 ],
 "metadata": {
  "kernelspec": {
   "display_name": "Python 3 (ipykernel)",
   "language": "python",
   "name": "python3"
  },
  "language_info": {
   "codemirror_mode": {
    "name": "ipython",
    "version": 3
   },
   "file_extension": ".py",
   "mimetype": "text/x-python",
   "name": "python",
   "nbconvert_exporter": "python",
   "pygments_lexer": "ipython3",
   "version": "3.11.4"
  }
 },
 "nbformat": 4,
 "nbformat_minor": 5
}
