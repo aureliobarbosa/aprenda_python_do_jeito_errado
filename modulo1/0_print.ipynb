{
 "cells": [
  {
   "cell_type": "markdown",
   "id": "eb8ab9ba-e8ce-485f-ab9e-6cd838c00e1c",
   "metadata": {},
   "source": [
    "Print"
   ]
  },
  {
   "cell_type": "code",
   "execution_count": 1,
   "id": "10378b12-91d7-40d0-b77b-3919e55a416a",
   "metadata": {},
   "outputs": [],
   "source": [
    "nome = \"José\""
   ]
  },
  {
   "cell_type": "code",
   "execution_count": 2,
   "id": "b63b33d4-8ed3-4ad0-8527-ff71f09247ff",
   "metadata": {},
   "outputs": [
    {
     "name": "stdout",
     "output_type": "stream",
     "text": [
      "José ano de morte 2010\n"
     ]
    }
   ],
   "source": [
    "print(nome, \"ano de morte\", 2010)"
   ]
  },
  {
   "cell_type": "code",
   "execution_count": 3,
   "id": "875f89c6-15c5-4cb5-8696-9f68ab06552f",
   "metadata": {},
   "outputs": [
    {
     "name": "stdout",
     "output_type": "stream",
     "text": [
      "1 2.0 texto qualquer José Saramago\n"
     ]
    }
   ],
   "source": [
    "print(1, 2.0, \"texto qualquer José Saramago\")"
   ]
  },
  {
   "cell_type": "code",
   "execution_count": 4,
   "id": "acbff2c9-1728-438d-970f-ca142ee60c38",
   "metadata": {},
   "outputs": [
    {
     "name": "stdout",
     "output_type": "stream",
     "text": [
      "1 9 13 1500\n"
     ]
    }
   ],
   "source": [
    "print(1, 9, 13, 1500)              #, sep=\"%\")"
   ]
  },
  {
   "cell_type": "code",
   "execution_count": null,
   "id": "a0d41ffb-45b4-4bf9-b315-3b2a9ebb39b9",
   "metadata": {},
   "outputs": [],
   "source": []
  },
  {
   "cell_type": "code",
   "execution_count": null,
   "id": "bfed0a54-437b-40b2-a50a-d9dd8d60a4c3",
   "metadata": {},
   "outputs": [],
   "source": []
  }
 ],
 "metadata": {
  "kernelspec": {
   "display_name": "Python 3 (ipykernel)",
   "language": "python",
   "name": "python3"
  },
  "language_info": {
   "codemirror_mode": {
    "name": "ipython",
    "version": 3
   },
   "file_extension": ".py",
   "mimetype": "text/x-python",
   "name": "python",
   "nbconvert_exporter": "python",
   "pygments_lexer": "ipython3",
   "version": "3.11.4"
  }
 },
 "nbformat": 4,
 "nbformat_minor": 5
}
