{
 "cells": [
  {
   "cell_type": "markdown",
   "id": "dfc73c25-7b44-48ca-8414-25cc6a4dd8e3",
   "metadata": {},
   "source": [
    "1.3)Se você correr 10 quilômetros em 42 minutos e 42 segundos, qual é o seu passo médio (tempo por \n",
    "milha em minutos e segundos)? Qual é a sua velocidade média em milhas por hora?"
   ]
  },
  {
   "cell_type": "markdown",
   "id": "11992b7e-3ec8-4a6d-b4bc-2b06df6f7215",
   "metadata": {},
   "source": [
    "Primeira questão."
   ]
  },
  {
   "cell_type": "code",
   "execution_count": 1,
   "id": "4922a5db-a7d5-46b0-95cb-2c79dacdbf60",
   "metadata": {},
   "outputs": [],
   "source": [
    "x_km = 10"
   ]
  },
  {
   "cell_type": "code",
   "execution_count": 2,
   "id": "5f6bbe07-c7ba-40c7-ae31-ab200394381f",
   "metadata": {},
   "outputs": [],
   "source": [
    "conversao = 1 / 1.6  # de km para milhas"
   ]
  },
  {
   "cell_type": "code",
   "execution_count": 33,
   "id": "77c953bc-688f-46c5-a601-dda08b6e0f6c",
   "metadata": {},
   "outputs": [
    {
     "data": {
      "text/plain": [
       "6.25"
      ]
     },
     "execution_count": 33,
     "metadata": {},
     "output_type": "execute_result"
    }
   ],
   "source": [
    "x_milhas = x_km * conversao\n",
    "x_milhas"
   ]
  },
  {
   "cell_type": "code",
   "execution_count": 18,
   "id": "4d95ffdf-7633-4b0e-88c6-ce1c93fef575",
   "metadata": {},
   "outputs": [],
   "source": [
    "# informções preliminares\n",
    "minutos = 42\n",
    "t_segundos = 42"
   ]
  },
  {
   "cell_type": "code",
   "execution_count": 19,
   "id": "2d92700c-9c95-437f-a517-8f09df97bab2",
   "metadata": {},
   "outputs": [],
   "source": [
    "t_minutos = minutos + t_segundos / 60"
   ]
  },
  {
   "cell_type": "code",
   "execution_count": 20,
   "id": "e53f18f8-4624-48a5-b390-e22096e697d9",
   "metadata": {},
   "outputs": [
    {
     "data": {
      "text/plain": [
       "6.832000000000001"
      ]
     },
     "execution_count": 20,
     "metadata": {},
     "output_type": "execute_result"
    }
   ],
   "source": [
    "passo = t_minutos / x_milhas\n",
    "passo"
   ]
  },
  {
   "cell_type": "code",
   "execution_count": 36,
   "id": "b6bc5e57-ec59-462c-86e9-d7b0ba55f23b",
   "metadata": {},
   "outputs": [],
   "source": [
    "minutos_do_passo = int(passo)"
   ]
  },
  {
   "cell_type": "code",
   "execution_count": 37,
   "id": "09fa63ba-b57d-4048-b8f1-7574debec619",
   "metadata": {},
   "outputs": [],
   "source": [
    "segundos_do_passo = (passo - minutos_do_passo)*60"
   ]
  },
  {
   "cell_type": "code",
   "execution_count": 38,
   "id": "43d11c58-5f6c-4aac-830d-87462f763e4c",
   "metadata": {},
   "outputs": [
    {
     "name": "stdout",
     "output_type": "stream",
     "text": [
      "O passo é  6  minutos,  49.920000000000044  segundos\n"
     ]
    }
   ],
   "source": [
    "print(\"O passo é \", minutos_do_passo,\" minutos, \", segundos_do_passo, \" segundos\")"
   ]
  },
  {
   "cell_type": "markdown",
   "id": "1ac7df41-f919-4720-9585-1f51fa887a4c",
   "metadata": {},
   "source": [
    "Parte B"
   ]
  },
  {
   "cell_type": "code",
   "execution_count": 29,
   "id": "974a337d-4bed-450a-93e7-62104ccd1a48",
   "metadata": {},
   "outputs": [],
   "source": [
    "t_hora = t_minutos / 60"
   ]
  },
  {
   "cell_type": "code",
   "execution_count": 30,
   "id": "ca59f10f-c890-4e4c-bb96-7d4d4ef4da15",
   "metadata": {},
   "outputs": [
    {
     "data": {
      "text/plain": [
       "0.7116666666666667"
      ]
     },
     "execution_count": 30,
     "metadata": {},
     "output_type": "execute_result"
    }
   ],
   "source": [
    "t_hora"
   ]
  },
  {
   "cell_type": "code",
   "execution_count": 31,
   "id": "095d6c71-00c1-4bcc-9ca4-6b68a09e9eb2",
   "metadata": {},
   "outputs": [],
   "source": [
    "velocidade = x_milhas / t_hora"
   ]
  },
  {
   "cell_type": "code",
   "execution_count": 32,
   "id": "bbd5fbae-5c10-4901-9350-39587fe655c7",
   "metadata": {},
   "outputs": [
    {
     "data": {
      "text/plain": [
       "8.782201405152225"
      ]
     },
     "execution_count": 32,
     "metadata": {},
     "output_type": "execute_result"
    }
   ],
   "source": [
    "velocidade"
   ]
  },
  {
   "cell_type": "code",
   "execution_count": 8,
   "id": "baaf18b8-8d4a-4eec-a674-df3fa022a579",
   "metadata": {},
   "outputs": [
    {
     "data": {
      "text/plain": [
       "0.7116666666666667"
      ]
     },
     "execution_count": 8,
     "metadata": {},
     "output_type": "execute_result"
    }
   ],
   "source": [
    "t_hora"
   ]
  },
  {
   "cell_type": "code",
   "execution_count": null,
   "id": "769f5479-7a05-46c5-bf3e-e4d94669fcc7",
   "metadata": {},
   "outputs": [],
   "source": []
  }
 ],
 "metadata": {
  "kernelspec": {
   "display_name": "Python 3 (ipykernel)",
   "language": "python",
   "name": "python3"
  },
  "language_info": {
   "codemirror_mode": {
    "name": "ipython",
    "version": 3
   },
   "file_extension": ".py",
   "mimetype": "text/x-python",
   "name": "python",
   "nbconvert_exporter": "python",
   "pygments_lexer": "ipython3",
   "version": "3.11.4"
  }
 },
 "nbformat": 4,
 "nbformat_minor": 5
}
