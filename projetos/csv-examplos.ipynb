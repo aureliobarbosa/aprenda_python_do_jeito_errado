{
 "cells": [
  {
   "cell_type": "code",
   "execution_count": 1,
   "id": "50805143-a307-4524-b0e4-679ac9fd1d2c",
   "metadata": {},
   "outputs": [],
   "source": [
    "import csv \n",
    "\n",
    "nome_arquivo = '../dados/estacao_brasilia/temperatura.csv'\n",
    "formato_data = '%Y-%m-%d'"
   ]
  },
  {
   "cell_type": "code",
   "execution_count": 14,
   "id": "924755f3-ae3d-44df-9d5d-5d3028cad95d",
   "metadata": {},
   "outputs": [],
   "source": [
    "def busca_linha(nome_arquivo, numero):    \n",
    "    with open(nome_arquivo) as arquivo:\n",
    "        leitor = csv.reader(arquivo, delimiter=';')\n",
    "        for linha in leitor:\n",
    "            if leitor.line_num == numero:\n",
    "                return linha"
   ]
  },
  {
   "cell_type": "code",
   "execution_count": 15,
   "id": "4914e1a1-4adf-43fd-a083-516a4fa965d7",
   "metadata": {
    "tags": []
   },
   "outputs": [],
   "source": [
    "teste = busca_linha(nome_arquivo, 1)\n"
   ]
  },
  {
   "cell_type": "code",
   "execution_count": 16,
   "id": "20ebc398-28b9-4839-b0e3-7486922a4f42",
   "metadata": {},
   "outputs": [
    {
     "name": "stdout",
     "output_type": "stream",
     "text": [
      "['Nome: BRASILIA']\n"
     ]
    }
   ],
   "source": [
    "print(teste)"
   ]
  },
  {
   "cell_type": "code",
   "execution_count": 9,
   "id": "5cb2da1a-e653-485e-b679-f9742e4bdf82",
   "metadata": {},
   "outputs": [
    {
     "data": {
      "text/plain": [
       "8466"
      ]
     },
     "execution_count": 9,
     "metadata": {},
     "output_type": "execute_result"
    }
   ],
   "source": [
    "leitor.line_num"
   ]
  },
  {
   "cell_type": "code",
   "execution_count": 8,
   "id": "365993a3-3046-4271-8aae-4863546f3163",
   "metadata": {},
   "outputs": [
    {
     "data": {
      "text/plain": [
       "0"
      ]
     },
     "execution_count": 8,
     "metadata": {},
     "output_type": "execute_result"
    }
   ],
   "source": [
    "arquivo.seek(0)"
   ]
  },
  {
   "cell_type": "code",
   "execution_count": 5,
   "id": "a443d8c1-ba67-441f-bdac-def452d23f12",
   "metadata": {},
   "outputs": [],
   "source": [
    "arquivo.close()"
   ]
  },
  {
   "cell_type": "code",
   "execution_count": null,
   "id": "5cff81a4-b613-4834-ada0-407febe87590",
   "metadata": {},
   "outputs": [],
   "source": []
  }
 ],
 "metadata": {
  "kernelspec": {
   "display_name": "Python 3 (ipykernel)",
   "language": "python",
   "name": "python3"
  },
  "language_info": {
   "codemirror_mode": {
    "name": "ipython",
    "version": 3
   },
   "file_extension": ".py",
   "mimetype": "text/x-python",
   "name": "python",
   "nbconvert_exporter": "python",
   "pygments_lexer": "ipython3",
   "version": "3.10.6"
  }
 },
 "nbformat": 4,
 "nbformat_minor": 5
}
